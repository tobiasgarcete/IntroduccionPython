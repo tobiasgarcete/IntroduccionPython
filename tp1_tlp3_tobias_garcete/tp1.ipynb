{
 "cells": [
  {
   "cell_type": "markdown",
   "metadata": {},
   "source": [
    "# Criterios de evaluación.\n",
    "\n",
    "* Se deben utilizar nombres de variables descriptivos y claros (Utilizar la nomeclatura correspondiente para los nombres de variables).\n",
    "* Comentarios claros y concisos que expliquen el propósito de cada sección del código.\n",
    "* Entrega en tiempo y forma.\n",
    "* Todo el código desarrollado debe ser subido a un repositorio en GitHub (el nombre del repositorio de seguir la siguiente estructura: tp1_tlp3_nombre_apellido).\n",
    "\n",
    "\n",
    "**Aclaración: Para resolver las actividades se debe incertar casillas de codigo entre cada actividad del cuaderno de Jupyter**"
   ]
  },
  {
   "cell_type": "markdown",
   "metadata": {},
   "source": [
    "### 1. **Hola Mundo y Variables**\n",
    "\n",
    "   - **Actividad 1.1**: Deben escribir un programa que imprima \"¡Hola, Mundo!\" en la consola.\n",
    "   - **Actividad 1.2**: Deben crear una variable llamada `nombre` y hacer que el programa imprima un saludo personalizado: `Hola, <nombre>!`"
   ]
  },
  {
   "cell_type": "code",
   "execution_count": null,
   "metadata": {},
   "outputs": [
    {
     "name": "stdout",
     "output_type": "stream",
     "text": [
      "Hola mundo\n"
     ]
    }
   ],
   "source": [
    "mi_saludo = \"Hola mundo\"\n",
    "print(mi_saludo)"
   ]
  },
  {
   "cell_type": "code",
   "execution_count": 11,
   "metadata": {},
   "outputs": [
    {
     "name": "stdout",
     "output_type": "stream",
     "text": [
      "Hola, Maximo\n"
     ]
    }
   ],
   "source": [
    "nombre = \"Maximo\"\n",
    "\n",
    "print(f\"Hola, {nombre}\")"
   ]
  },
  {
   "cell_type": "markdown",
   "metadata": {},
   "source": [
    "### 2. **Operaciones Matemáticas Básicas**\n",
    "\n",
    "   - **Actividad 1.1**: Crear un programa que pida al usuario dos números y realice las cuatro operaciones matemáticas básicas (suma, resta, multiplicación y división), imprimiendo los resultados.\n",
    "   - **Actividad 1.2**: Hacer que el programa calcule el promedio de los dos números."
   ]
  },
  {
   "cell_type": "code",
   "execution_count": null,
   "metadata": {},
   "outputs": [
    {
     "name": "stdout",
     "output_type": "stream",
     "text": [
      "El resultado de la suma es: 8\n",
      "El resultado de la resta es: 0\n",
      "El resultado de la multiplicación es: 16\n",
      "El resultado de la division es: 1\n"
     ]
    }
   ],
   "source": [
    "numero1 = int(input(\"Ingrese primer numero\"))\n",
    "numero2 = int(input(\"Ingrese segundo numero\"))\n",
    "\n",
    "suma = int(numero1 + numero2)\n",
    "resta = int(numero1 - numero2)\n",
    "multiplicacion = int(numero1 * numero2)\n",
    "division = int(numero1 / numero2)\n",
    "\n",
    "print(f\"El resultado de la suma es: {suma}\")\n",
    "print(f\"El resultado de la resta es: {resta}\")\n",
    "print(f\"El resultado de la multiplicación es: {multiplicacion}\")\n",
    "print(f\"El resultado de la division es: {division}\")\n",
    "\n"
   ]
  },
  {
   "cell_type": "code",
   "execution_count": null,
   "metadata": {},
   "outputs": [
    {
     "name": "stdout",
     "output_type": "stream",
     "text": [
      "El promedio de los numeros es: 4\n"
     ]
    }
   ],
   "source": [
    "promedio = suma / 2\n",
    "\n",
    "print(f\"El promedio de los numeros es: {promedio}\")"
   ]
  },
  {
   "cell_type": "markdown",
   "metadata": {},
   "source": [
    "### 3. **Condicionales (if-else)**\n",
    "\n",
    "   - **Actividad 1.1**: Escribir un programa que pida al usuario su edad y le diga si es mayor de edad (18 años o más).\n",
    "   - **Actividad 1.2**: Agregar un mensaje diferente para diferentes rangos de edad, como por ejemplo, si es un niño, adolescente o adulto."
   ]
  },
  {
   "cell_type": "code",
   "execution_count": 14,
   "metadata": {},
   "outputs": [
    {
     "name": "stdout",
     "output_type": "stream",
     "text": [
      "Usted es un adolescente\n"
     ]
    }
   ],
   "source": [
    "\n",
    "edad = int(input(\"Ingrese su edad\"))\n",
    "\n",
    "if (edad >= 18 and edad <= 24) :\n",
    "    print(\"Usted es mayor de edad\")\n",
    "elif (edad < 18 and edad >= 13) : \n",
    "    print(\"Usted es un adolescente\")\n",
    "elif (edad >= 25) :\n",
    "    print(\"Usted es un adulto\") \n",
    "else :\n",
    "    print(\"Usted es un niño\")\n"
   ]
  },
  {
   "cell_type": "markdown",
   "metadata": {},
   "source": [
    "### 4. **Ciclos (while, for)**\n",
    "\n",
    "   - **Actividad 1.1**: Escribir un programa que imprima los números del 1 al 10 usando un bucle `for`.\n",
    "   - **Actividad 1.2**: Usar un bucle `while` para imprimir los números del 1 al 10, e imprimir solo aquellos números que sean divisibles por 2."
   ]
  },
  {
   "cell_type": "code",
   "execution_count": 16,
   "metadata": {},
   "outputs": [
    {
     "name": "stdout",
     "output_type": "stream",
     "text": [
      "1\n",
      "2\n",
      "3\n",
      "4\n",
      "5\n",
      "6\n",
      "7\n",
      "8\n",
      "9\n",
      "10\n"
     ]
    }
   ],
   "source": [
    "\n",
    "for i in range(1, 11):\n",
    "    print(i)"
   ]
  },
  {
   "cell_type": "code",
   "execution_count": 18,
   "metadata": {},
   "outputs": [
    {
     "name": "stdout",
     "output_type": "stream",
     "text": [
      "2\n",
      "4\n",
      "6\n",
      "8\n",
      "10\n"
     ]
    }
   ],
   "source": [
    "num = 1  \n",
    "\n",
    "while num <= 10:  \n",
    "    if num % 2 == 0:  \n",
    "        print(num)\n",
    "    num += 1  \n"
   ]
  },
  {
   "cell_type": "markdown",
   "metadata": {},
   "source": [
    "### 5. **Listas y Bucles**\n",
    "\n",
    "   - **Actividad 1.1**: Crear una lista con 5 números y escribir un programa que imprima cada número de la lista usando un bucle `for`.\n",
    "   - **Actividad 1.2**: Usar un bucle para calcular la suma de los números de la lista."
   ]
  },
  {
   "cell_type": "code",
   "execution_count": 26,
   "metadata": {},
   "outputs": [
    {
     "name": "stdout",
     "output_type": "stream",
     "text": [
      "1\n",
      "2\n",
      "3\n",
      "4\n",
      "5\n"
     ]
    }
   ],
   "source": [
    "\n",
    "numeros = [1, 2, 3, 4, 5]\n",
    "\n",
    "for i in numeros:\n",
    "    print(i)"
   ]
  },
  {
   "cell_type": "markdown",
   "metadata": {},
   "source": [
    "### 6. **Funciones**\n",
    "\n",
    "   - **Actividad 1.1**: Escribir una función llamada `saludo` que reciba un nombre como parámetro y devuelva un saludo personalizado.\n",
    "   - **Actividad 1.2**: Crear una función que reciba dos números y devuelva su suma, resta, multiplicación y división."
   ]
  },
  {
   "cell_type": "code",
   "execution_count": 32,
   "metadata": {},
   "outputs": [
    {
     "name": "stdout",
     "output_type": "stream",
     "text": [
      "Hola Maximo\n"
     ]
    }
   ],
   "source": [
    "def saludo(nombre):\n",
    "    print(f\"Hola {nombre}\")\n",
    "\n",
    "saludo(\"Maximo\")\n"
   ]
  },
  {
   "cell_type": "markdown",
   "metadata": {},
   "source": [
    "### 7. **Manejo de cadenas de texto**\n",
    "\n",
    "   - **Actividad 1.1**: Escribir un programa que pida al usuario su nombre y lo imprima en mayúsculas y en minúsculas.\n",
    "   - **Actividad 1.2**: Hacer que el programa imprima la longitud del nombre ingresado (no tener en cuenta los espacios en blanco)."
   ]
  },
  {
   "cell_type": "code",
   "execution_count": 36,
   "metadata": {},
   "outputs": [
    {
     "name": "stdout",
     "output_type": "stream",
     "text": [
      "MAXIMO GONZALEZ\n",
      "maximo gonzalez\n",
      "La longitud de tu nombre sin espacios es: 14\n"
     ]
    }
   ],
   "source": [
    "nombre = input(\"Ingrese su nombre\")\n",
    "\n",
    "print(nombre.upper())\n",
    "print(nombre.lower())\n",
    "\n",
    "longitud = len(nombre.replace(\" \", \"\"))\n",
    "\n",
    "print(f\"La longitud de tu nombre sin espacios es: {longitud}\")\n"
   ]
  },
  {
   "cell_type": "markdown",
   "metadata": {},
   "source": [
    "### 8. **Diccionarios**\n",
    "\n",
    "   - **Actividad1.1**: Crear un diccionario que contenga los nombres de tres personas como claves y sus edades como valores. El programa debe imprimir la edad de cada persona.\n",
    "   - **Actividad1.2**: Escribir un programa que pregunte al usuario un nombre, luego su edad y los agregue al diccionario."
   ]
  },
  {
   "cell_type": "code",
   "execution_count": 38,
   "metadata": {},
   "outputs": [
    {
     "name": "stdout",
     "output_type": "stream",
     "text": [
      "\n",
      "Lista actualizada de personas y sus edades:\n",
      "Juan tiene 25 años.\n",
      "Maria tiene 30 años.\n",
      "Pedro tiene 22 años.\n",
      "Maximo tiene 18 años.\n"
     ]
    }
   ],
   "source": [
    "\n",
    "personas = {\n",
    "    \"Juan\": 25,\n",
    "    \"Maria\": 30,\n",
    "    \"Pedro\": 22\n",
    "}\n",
    "\n",
    "\n",
    "nombre = input(\"Ingrese un nombre: \").strip()\n",
    "edad = int(input(\"Ingrese la edad: \"))\n",
    "\n",
    "\n",
    "personas[nombre] = edad\n",
    "\n",
    "\n",
    "print(\"\\nLista actualizada de personas y sus edades:\")\n",
    "for persona, edad in personas.items():\n",
    "    print(f\"{persona} tiene {edad} años.\")"
   ]
  },
  {
   "cell_type": "markdown",
   "metadata": {},
   "source": [
    "### 9. **Números aleatorios**\n",
    "\n",
    "   - **Actividad 1.1**: Escribir un programa que genere 5 números aleatorios entre 1 y 100, lo imprima por consola y diga si es mayor o menor a 50.\n",
    "   - **Actividad 1.2**: Sumar los 5 números generados aleatoriamente y en caso de que el resultado sea mayor a 100, mostrar el valor antes de ser mayor a 100 y cuantos números se sumaron para llegar a dicho valor."
   ]
  },
  {
   "cell_type": "code",
   "execution_count": 41,
   "metadata": {},
   "outputs": [
    {
     "name": "stdout",
     "output_type": "stream",
     "text": [
      "El numero generado es mayor a 50 65\n",
      "El numero generado es menor a 50 32\n",
      "La suma de los elementos es mayor a 100, se sumaron un total de 3, la suma dio: 170\n"
     ]
    }
   ],
   "source": [
    "from random import randint\n",
    "\n",
    "lista_aleatorios = []\n",
    "suma = 0\n",
    "\n",
    "for i in range(5):\n",
    "    numero_aleatorio = randint(1,100)\n",
    "    suma += numero_aleatorio\n",
    "    lista_aleatorios.append(numero_aleatorio)\n",
    "    if suma > 100 :\n",
    "        print(f\"La suma de los elementos es mayor a 100, se sumaron un total de {len(lista_aleatorios)}, la suma dio: {suma}\")\n",
    "        break\n",
    "    if numero_aleatorio > 50:\n",
    "        print(f\"El numero generado es mayor a 50 {numero_aleatorio}\")\n",
    "    elif numero_aleatorio < 50:\n",
    "        print(f\"El numero generado es menor a 50 {numero_aleatorio}\")\n",
    "    else:\n",
    "        print(f\"El numero generado es igual a 50 {numero_aleatorio}\")    "
   ]
  },
  {
   "cell_type": "markdown",
   "metadata": {},
   "source": [
    "### 10. **Proyecto Final: Calculadora**\n",
    "\n",
    "   - **Actividad 1.1**: Los estudiantes deben crear una calculadora básica que permita realizar operaciones de suma, resta, multiplicación y división con entradas del usuario. El programa debe pedir al usuario que elija la operación y luego introducir 2 números para realizar el cálculo.\n",
    "   - **Actividad 1.2**: Implementar una opción para que el usuario pueda continuar haciendo cálculos o salir del programa."
   ]
  },
  {
   "cell_type": "code",
   "execution_count": null,
   "metadata": {},
   "outputs": [
    {
     "name": "stdout",
     "output_type": "stream",
     "text": [
      "\n",
      "--- Calculadora Básica ---\n",
      "1. Suma\n",
      "2. Resta\n",
      "3. Multiplicación\n",
      "4. División\n",
      "5. Salir\n",
      "El resultado de la suma es: 2.0\n",
      "Saliendo de la calculadora... ¡Hasta luego!\n"
     ]
    }
   ],
   "source": [
    "\n",
    "def calculadora():\n",
    "    while True:\n",
    "        print(\"\\n--- Calculadora Básica ---\")\n",
    "        print(\"1. Suma\")\n",
    "        print(\"2. Resta\")\n",
    "        print(\"3. Multiplicación\")\n",
    "        print(\"4. División\")\n",
    "        print(\"5. Salir\")\n",
    "\n",
    "        opcion = input(\"Elija una operación (1-5): \")\n",
    "\n",
    "        if opcion == \"5\":\n",
    "            print(\"Saliendo de la calculadora... ¡Hasta luego!\")\n",
    "            break \n",
    "\n",
    "        if opcion not in [\"1\", \"2\", \"3\", \"4\"]:\n",
    "            print(\"Opción inválida. Intente nuevamente.\")\n",
    "            continue\n",
    "\n",
    "        try:\n",
    "            num1 = float(input(\"Ingrese el primer número: \"))\n",
    "            num2 = float(input(\"Ingrese el segundo número: \"))\n",
    "        except ValueError:\n",
    "            print(\"Entrada inválida. Por favor, ingrese números válidos.\")\n",
    "            continue\n",
    "\n",
    "        if opcion == \"1\":\n",
    "            resultado = num1 + num2\n",
    "            print(f\"El resultado de la suma es: {resultado}\")\n",
    "        elif opcion == \"2\":\n",
    "            resultado = num1 - num2\n",
    "            print(f\"El resultado de la resta es: {resultado}\")\n",
    "        elif opcion == \"3\":\n",
    "            resultado = num1 * num2\n",
    "            print(f\"El resultado de la multiplicación es: {resultado}\")\n",
    "        elif opcion == \"4\":\n",
    "            if num2 == 0:\n",
    "                print(\"Error: No se puede dividir entre 0.\")\n",
    "            else:\n",
    "                resultado = num1 / num2\n",
    "                print(f\"El resultado de la división es: {resultado}\")\n",
    "\n",
    "        continuar = input(\"¿Desea realizar otra operación? (s/n): \").strip().lower()\n",
    "        if continuar != \"s\":\n",
    "            print(\"Saliendo de la calculadora\")\n",
    "            break\n",
    "\n",
    "calculadora()\n"
   ]
  },
  {
   "cell_type": "markdown",
   "metadata": {},
   "source": [
    "### EXTRA. **Juegos Simples (Adivina el número)**\n",
    "\n",
    "   - **Actividad 1.1**: Escribir un juego donde el programa elija un número aleatorio entre 1 y 100 y el usuario tenga que adivinarlo. El programa debe dar pistas si el número es mayor o menor.\n",
    "   - **Actividad 1.2**: Limitar el número de intentos y mostrar un mensaje de éxito o fracaso al final."
   ]
  }
 ],
 "metadata": {
  "kernelspec": {
   "display_name": "Python 3",
   "language": "python",
   "name": "python3"
  },
  "language_info": {
   "codemirror_mode": {
    "name": "ipython",
    "version": 3
   },
   "file_extension": ".py",
   "mimetype": "text/x-python",
   "name": "python",
   "nbconvert_exporter": "python",
   "pygments_lexer": "ipython3",
   "version": "3.12.9"
  }
 },
 "nbformat": 4,
 "nbformat_minor": 2
}
